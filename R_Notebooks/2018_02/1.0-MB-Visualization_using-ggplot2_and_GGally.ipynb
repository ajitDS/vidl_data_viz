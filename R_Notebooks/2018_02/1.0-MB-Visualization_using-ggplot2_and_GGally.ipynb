{
 "cells": [
  {
   "cell_type": "markdown",
   "metadata": {},
   "source": [
    "## ggplot2: Tutorial and Statistical Analysis\n",
    "**Date**: February 28th, 2018\n",
    "\n",
    "**Speaker**: Meredith Broadway meredith.broadway@owen.vanderbilt.edu "
   ]
  },
  {
   "cell_type": "markdown",
   "metadata": {},
   "source": [
    "## Description\n",
    "\n",
    "In this VIDL workshop, we'll learn how to leaverage R's **ggplot2** (and complimentary libraries) to create effective data visualization. \n",
    "\n",
    "Two complimentary visualization libraries we'll be using: **GGally** and **hexbin**. \n",
    "Additional libraries we'll need to manipulate data: **dplyr**, **MASS**, **tidyr**, and **lubridate**. "
   ]
  },
  {
   "cell_type": "code",
   "execution_count": null,
   "metadata": {
    "collapsed": true
   },
   "outputs": [],
   "source": [
    "# Call libraries\n",
    "library(ggplot2)\n",
    "library(dplyr)\n",
    "library(tidyr)\n",
    "library(GGally) \n",
    "library(hexbin)\n",
    "library(MASS)"
   ]
  },
  {
   "cell_type": "code",
   "execution_count": null,
   "metadata": {
    "collapsed": true
   },
   "outputs": [],
   "source": [
    "# Read data in\n",
    "## Pre-process data \n",
    "nazi <- read.csv(\"C:/Users/broadwmc/Desktop/nazi.csv\") \n",
    "nazi <- nazi[rep(rownames(nazi), nazi$count), ]\n",
    "rownames(nazi) <- NULL\n",
    "nazi[6] <- NULL "
   ]
  },
  {
   "cell_type": "markdown",
   "metadata": {},
   "source": [
    "### Nazi dataset\n",
    "This dataset contains data from membership cards of the NS Teachers League in the Berlin Document Center, comparing Nazis with other Germans. \n",
    "\n",
    "Jarausch, Konrad H., and Gerhard Arminger. \"The German Teaching Profession and Nazi Party Membership: A Demographic Logit Model.\" *Journal of Interdisciplinary History* 20, no. 2 (1989): 197. doi:10.2307/204832. "
   ]
  },
  {
   "cell_type": "code",
   "execution_count": null,
   "metadata": {
    "collapsed": true
   },
   "outputs": [],
   "source": [
    "## Questions for analysis --\n",
    "      # Did more male or female teachers support/not support Nazis?\n",
    "      # Did more religious/non-religious teachers support/not support Nazis? \n",
    "      # What religion supported/did not suport Nazis the most in each era? \n",
    "      # Did more Nazi-supporting teachers live in rural or urban environments? "
   ]
  },
  {
   "cell_type": "code",
   "execution_count": null,
   "metadata": {
    "scrolled": true
   },
   "outputs": [],
   "source": [
    "summary(nazi)"
   ]
  },
  {
   "cell_type": "code",
   "execution_count": null,
   "metadata": {},
   "outputs": [],
   "source": [
    "colnames(nazi)"
   ]
  },
  {
   "cell_type": "code",
   "execution_count": null,
   "metadata": {},
   "outputs": [],
   "source": [
    "table(nazi)"
   ]
  },
  {
   "cell_type": "markdown",
   "metadata": {},
   "source": [
    "### Did more male or female teachers support Nazis? \n",
    "We are dealing with both quantitative and categorical (membership: yes, no) data. Let's visualize with a barchart.  "
   ]
  },
  {
   "cell_type": "code",
   "execution_count": null,
   "metadata": {
    "scrolled": true
   },
   "outputs": [],
   "source": [
    "# Make a simple barchart \n",
    "ggplot(nazi, aes(membership, ..count..)) + geom_bar(aes(fill = gender), position = \"dodge\")\n"
   ]
  },
  {
   "cell_type": "markdown",
   "metadata": {},
   "source": [
    "### What religions did/did not support Nazism? \n",
    "We can visualize the distribution of religious Nazi supporters and Nazi resisters in the same way: \n",
    "change the x axis to religion and fill to membership \n",
    "\n",
    "Tidy data by putting bars in DESC order using the factor() function; R will automatically organize your data in alphabetical order. \n",
    "\n",
    "Change barchart colors for a better looking visualization "
   ]
  },
  {
   "cell_type": "code",
   "execution_count": null,
   "metadata": {
    "scrolled": true
   },
   "outputs": [],
   "source": [
    "nazi$religion <- factor(nazi$religion, levels=c(\"Protestant\", \"Catholic\", \"None\"))\n",
    "ggplot(nazi, aes(religion, ..count..)) + geom_bar(aes(fill = membership), position = \"dodge\") + scale_fill_manual(values=c(\"blue4\", \"firebrick3\"))"
   ]
  },
  {
   "cell_type": "markdown",
   "metadata": {},
   "source": [
    "### What religions supported/did not support Nazism the most in each era? \n",
    "To create more complex visualizations, we'll use the dplyr library and piping %>% -- to select and filter data.\n",
    "\n",
    "We should use the factor() function again. This time to factor our cohort in chronological order. \n",
    "\n",
    "The most effective visualization we can use is a stacked barchart "
   ]
  },
  {
   "cell_type": "code",
   "execution_count": null,
   "metadata": {
    "scrolled": true
   },
   "outputs": [],
   "source": [
    "nazi$cohort <- factor(nazi$cohort,levels = c(\"Empire\", \"Late Empire\", \"Early Weimar\", \"Late Weimar\", \"Third Reich\"))\n",
    "nazi %>%\n",
    "  dplyr::select(religion, cohort, membership) %>%\n",
    "  filter(membership == \"yes\") %>%\n",
    "  ggplot(mapping = aes(x = cohort, fill=religion)) +\n",
    "  geom_bar()"
   ]
  },
  {
   "cell_type": "markdown",
   "metadata": {},
   "source": [
    "Faceting (facet_grid) allows you to visualize your data by an additional categorical variable. \n",
    "Try selecting and faceting by residence.  "
   ]
  },
  {
   "cell_type": "code",
   "execution_count": null,
   "metadata": {
    "scrolled": true
   },
   "outputs": [],
   "source": [
    "nazi %>%\n",
    "  dplyr::select(religion, cohort, membership) %>%\n",
    "  ggplot(mapping = aes(x = cohort, fill=religion)) +\n",
    "  geom_bar() +\n",
    "  facet_grid(. ~ membership) + \n",
    "  theme(axis.text.x = element_text(angle = 45))"
   ]
  },
  {
   "cell_type": "markdown",
   "metadata": {},
   "source": [
    "### Devil in the details \n",
    "You can use a dotplot for very small data. Once again, let's use dplyr to select and filter our data. Example: *How many women supported Nazism during the Early Weimar era?*"
   ]
  },
  {
   "cell_type": "code",
   "execution_count": null,
   "metadata": {
    "scrolled": true
   },
   "outputs": [],
   "source": [
    "nazi %>%\n",
    "  dplyr::select(gender, residence, membership, religion, cohort) %>%\n",
    "  filter(gender == \"female\") %>%\n",
    "  filter(membership == \"yes\") %>%\n",
    "  filter(cohort == \"Early Weimar\") %>%\n",
    "  ggplot(mapping = aes(x = residence)) +\n",
    "  facet_grid(. ~ religion) +\n",
    "  geom_dotplot(binwidth = .08) "
   ]
  },
  {
   "cell_type": "markdown",
   "metadata": {},
   "source": [
    "### Did more Nazi-supporting teachers live in rural or urban environments?\n",
    "A bubble chart can be an effective form of data visualization but should be used with care. Too many observations makes the chart unreadable. "
   ]
  },
  {
   "cell_type": "code",
   "execution_count": null,
   "metadata": {
    "scrolled": true
   },
   "outputs": [],
   "source": [
    "# Read in original data, which already grouped and counted data  \n",
    "ognazi <- read.csv(\"C:/Users/broadwmc/Desktop/nazi.csv\") \n",
    "ognazi$cohort <- factor(ognazi$cohort,levels = c(\"Empire\", \"Late Empire\", \"Early Weimar\", \"Late Weimar\", \"Third Reich\"))\n",
    "ognazi %>%\n",
    "  dplyr::select(cohort, residence, religion, count, membership) %>%\n",
    "  filter(membership == \"yes\") %>%\n",
    "  filter(cohort == c(\"Empire\", \"Early Weimar\", \"Third Reich\")) %>%\n",
    "  ggplot(mapping = aes(x=cohort, y=residence, label = \"\")) +\n",
    "  geom_jitter(aes(size = count, colour = religion),alpha=.2) +\n",
    "  geom_text(hjust = 1, size = 2) +\n",
    "  scale_size(range = c(1,15)) +\n",
    "  theme_bw()\n"
   ]
  },
  {
   "cell_type": "markdown",
   "metadata": {},
   "source": [
    "### Other datasets and more ggplot2 functions\n",
    "#### The diamonds dataset\n",
    "The diamonds dataset contains the prices and other attributes of almost 54,000 diamonds. Diamonds dataset comes pre-installed with R. "
   ]
  },
  {
   "cell_type": "code",
   "execution_count": null,
   "metadata": {},
   "outputs": [],
   "source": [
    "# Load and explore data --- \n",
    "data(\"diamonds\")\n",
    "summary(diamonds)\n"
   ]
  },
  {
   "cell_type": "code",
   "execution_count": null,
   "metadata": {
    "collapsed": true
   },
   "outputs": [],
   "source": [
    "# Pre-process data---\n",
    "colnames(diamonds)[8] <- \"length\"\n",
    "colnames(diamonds)[9] <- \"width\"\n",
    "colnames(diamonds)[5] <- \"total.depth\"\n",
    "colnames(diamonds)[10] <- \"depth\""
   ]
  },
  {
   "cell_type": "code",
   "execution_count": null,
   "metadata": {
    "collapsed": true
   },
   "outputs": [],
   "source": [
    " ## Questions for analysis --\n",
    "        # What is the range of cost for diamonds? Cost of color?\n",
    "        # Does price range fall under a normal distriubtion curve?\n",
    "        # Histograpm alternate: density plot\n",
    "        # Relatonship between cut, color, and carat: What is the best value for color, cut, and carat?"
   ]
  },
  {
   "cell_type": "markdown",
   "metadata": {},
   "source": [
    "### What is the distribution of diamond cost? "
   ]
  },
  {
   "cell_type": "code",
   "execution_count": null,
   "metadata": {},
   "outputs": [],
   "source": [
    "# We're working with two quantitative variables and we want to examine count. Start with a histogram.  \n",
    "ggplot(diamonds, aes(price)) +\n",
    "  geom_histogram(bins = 15) +\n",
    "  theme(axis.text.x = element_text(angle = 45))\n"
   ]
  },
  {
   "cell_type": "code",
   "execution_count": null,
   "metadata": {},
   "outputs": [],
   "source": [
    "# Add a normal curve to our distribution  \n",
    "ggplot(diamonds, aes(price)) +\n",
    "  geom_histogram(bins = 15,  \n",
    "                 aes(y=..density.., fill=..count..)) +\n",
    "  scale_fill_gradient(low=\"royalblue2\", high=\"royalblue4\") +\n",
    "  stat_function(fun=dnorm,\n",
    "                color=\"navy\",\n",
    "                size = 1, \n",
    "                args=list(mean=mean(diamonds$price), \n",
    "                          sd=sd(diamonds$price))) "
   ]
  },
  {
   "cell_type": "markdown",
   "metadata": {},
   "source": [
    "### What is the relationship between clarity, carat, and cut? "
   ]
  },
  {
   "cell_type": "code",
   "execution_count": null,
   "metadata": {},
   "outputs": [],
   "source": [
    "# An alternative to a histogram: density plot \n",
    "## Add fill (argument of aes) and alpha (arguement of geom_density) to shade plots \n",
    "ggplot(diamonds, aes(carat, colour=clarity)) +\n",
    "  geom_density() "
   ]
  },
  {
   "cell_type": "markdown",
   "metadata": {},
   "source": [
    "#### What is the relationship between carat, color, and cut? "
   ]
  },
  {
   "cell_type": "code",
   "execution_count": null,
   "metadata": {},
   "outputs": [],
   "source": [
    "# Create a box-and-whiskers plot  \n",
    "## Excellent for examining IQR, median, range, and outliers of your data.   \n",
    "ggplot(diamonds, aes(x = cut, y = carat, \n",
    "                   colour = color)) + \n",
    "  geom_boxplot() +\n",
    "  facet_grid(.~color) +\n",
    "  theme(axis.text.x = element_text(angle = 45))"
   ]
  },
  {
   "cell_type": "code",
   "execution_count": null,
   "metadata": {},
   "outputs": [],
   "source": [
    "# Create a heat map \n",
    "## Not intuitive data visualization, but pretty \n",
    "ggplot(diamonds, aes(x = clarity, y = color)) +\n",
    "  geom_tile(aes(fill = cut)) +\n",
    "  scale_fill_brewer(palette = \"BuGn\")"
   ]
  },
  {
   "cell_type": "markdown",
   "metadata": {},
   "source": [
    "### What is the correlation between carat and price? "
   ]
  },
  {
   "cell_type": "code",
   "execution_count": null,
   "metadata": {},
   "outputs": [],
   "source": [
    "# Create a scatterplot\n",
    "## A good visualization for examining the relationship (positive, negative) between x and y variables. Here we see a postive relationship between our independent variable (x) and dependent variable (y).  \n",
    "ggplot(diamonds, aes(x=carat, y=price, colour=color)) +\n",
    "  geom_point()"
   ]
  },
  {
   "cell_type": "code",
   "execution_count": null,
   "metadata": {},
   "outputs": [],
   "source": [
    "# Let's return to what we learned with dplyr. Filter diamonds data using dplyr() and add a linear regression line\n",
    "## Change \"lm\" to \"loess\" and se = TRUE to change model \n",
    "diamonds %>% \n",
    "  dplyr::select(carat,price,color) %>%\n",
    "  filter(color %in% c(\"D\",\"J\")) %>%\n",
    "  ggplot(mapping=aes(x=carat, y=price, colour=color)) +\n",
    "  geom_point() +\n",
    "  geom_smooth(method=\"lm\", se=FALSE)"
   ]
  },
  {
   "cell_type": "code",
   "execution_count": null,
   "metadata": {},
   "outputs": [],
   "source": [
    "# Create a hexbin \n",
    "## A hexbin is another alternative for visualizing count, although not as effective as a histogram. \n",
    "ggplot(diamonds, aes(x=carat, y=price)) +\n",
    "  geom_hex(bins=15)"
   ]
  },
  {
   "cell_type": "code",
   "execution_count": null,
   "metadata": {},
   "outputs": [],
   "source": [
    "# Add a 2D overlay desity estimate to your scatterplot\n",
    "## The MASS library works together with ggplot2 and dplyr to create your 2D density \n",
    "diamonds %>% \n",
    "  dplyr::select(carat,price,color) %>%\n",
    "  filter(color %in% c(\"D\",\"J\")) %>%\n",
    "  ggplot(mapping=aes(x=carat, y=price, colour=color)) +\n",
    "  geom_point(alpha = 0.5) + \n",
    "  geom_density_2d(colour=\"black\", size=.5) + \n",
    "  theme(panel.background = element_rect(fill = '#ffffff')) "
   ]
  },
  {
   "cell_type": "code",
   "execution_count": null,
   "metadata": {},
   "outputs": [],
   "source": [
    "# To create a pairwise plot, use the GGally library\n",
    "ggpairs(\n",
    "  data = diamonds, \n",
    "  mapping = ggplot2::aes(colour = cut),\n",
    "  columns = c(1,7,9,10),\n",
    "  diag = list(continuous = \"densityDiag\"), \n",
    "  upper = list(continuous = wrap(\"cor\", size = 3)),\n",
    "  axisLabels = \"show\")\n"
   ]
  },
  {
   "cell_type": "markdown",
   "metadata": {
    "collapsed": true
   },
   "source": [
    "## Conclusion\n",
    "ggplot2 is a powerful R visualization library. Coupled together with libraries such as GGally and hexbin, you can create any visualization you need for your data.\n",
    "\n",
    "### Resources\n",
    "[ggplot2.tidyverse.org](http://ggplot2.tidyverse.org/)\n",
    "\n",
    "[ggplot2 book by Hadley Wickham](https://github.com/hadley/ggplot2-book)\n",
    "\n",
    "[Programming with ggplot2 by Hadley Wickham](https://rpubs.com/hadley/97970)\n",
    "\n",
    "[GGAlly - Extension to ggplot2](http://ggobi.github.io/ggally/#ggally)\n",
    "\n",
    "[An introduction to dplyr](https://cran.r-project.org/web/packages/dplyr/vignettes/dplyr.html)\n"
   ]
  }
 ],
 "metadata": {
  "kernelspec": {
   "display_name": "R",
   "language": "R",
   "name": "ir"
  },
  "language_info": {
   "codemirror_mode": "r",
   "file_extension": ".r",
   "mimetype": "text/x-r-source",
   "name": "R",
   "pygments_lexer": "r",
   "version": "3.4.2"
  }
 },
 "nbformat": 4,
 "nbformat_minor": 2
}
