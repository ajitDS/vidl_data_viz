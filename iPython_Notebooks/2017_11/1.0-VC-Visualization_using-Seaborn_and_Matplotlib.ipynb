{
 "cells": [
  {
   "cell_type": "markdown",
   "metadata": {
    "collapsed": true
   },
   "source": [
    "# Seaborn Tutorial and Statistical analysis\n",
    "\n",
    "**Date**: November 29th, 2017\n",
    "\n",
    "**Speaker**: Victor Calderon [victor.calderon@vanderbilt.edu](mailto:victor.calderon@vanderbilt.edu)\n",
    "\n",
    "## Description\n",
    "\n",
    "In this tutorial, we will learn how to use [Seaborn](https://seaborn.pydata.org/) to plot attractive statistical graphics. We will also use [Pandas](http://pandas.pydata.org/) to extract the data.\n",
    "\n",
    "The aim of the workshop is for it to be interactive, so feel free to ask any questions as we go."
   ]
  },
  {
   "cell_type": "markdown",
   "metadata": {},
   "source": [
    "The first thing that we must do is to __import specific modules__.<br>\n",
    "The traditional modules are __`numpy`__, __`matplotlib`__, __`pandas`__, and for this case,\n",
    "__<font color='red'>seaborn</font>__"
   ]
  },
  {
   "cell_type": "code",
   "execution_count": null,
   "metadata": {
    "collapsed": true
   },
   "outputs": [],
   "source": [
    "## Importing modules\n",
    "%matplotlib inline\n",
    "import matplotlib.pyplot as plt\n",
    "import numpy as np\n",
    "import pandas as pd"
   ]
  },
  {
   "cell_type": "markdown",
   "metadata": {},
   "source": [
    "Now we can go ahead and import seaborn with a specific __context__ $\\to$ `notebook`"
   ]
  },
  {
   "cell_type": "code",
   "execution_count": null,
   "metadata": {
    "collapsed": true
   },
   "outputs": [],
   "source": [
    "## Now we can import `seaborn`\n",
    "## We can import seaborn with a specific \n",
    "## 'context'. This will make the plots look\n",
    "## better for an iPython notebook.\n",
    "import seaborn as sns\n",
    "sns.set()\n",
    "sns.set_context('notebook', font_scale=1.5, rc={'text.usetex':True, \n",
    "                                                \"lines.linewidth\": 2.5, \n",
    "                                                'text.latex.unicode':True})"
   ]
  },
  {
   "cell_type": "code",
   "execution_count": null,
   "metadata": {
    "collapsed": true
   },
   "outputs": [],
   "source": [
    "### Only for this notebook\n",
    "def rename_cols(df):\n",
    "    \"\"\"\n",
    "    Replaces the '_' from the column names of a dataframe\n",
    "    Only used in this notebook because of LaTeX\n",
    "    \n",
    "    Parameters\n",
    "    ----------\n",
    "    df: pandas DataFrame\n",
    "        dataframe with the columns to be renamed\n",
    "    \n",
    "    Returns\n",
    "    ---------\n",
    "    df_new: pandas DataFrame\n",
    "        new dataframe with updated column names\n",
    "    \"\"\"\n",
    "    ## Renaming columns\n",
    "    df_cols = df.columns.values\n",
    "    df_new  = df.rename(columns=dict(zip(df_cols, [x.replace('_',' ') for x in df_cols])))\n",
    "    \n",
    "    return df_new"
   ]
  },
  {
   "cell_type": "markdown",
   "metadata": {},
   "source": [
    "## Titanic - Dataset\n",
    "\n",
    "The next step is to download a dataset. Seaborn comes with already __pre-installed__ datasets, which are easy to access.\n",
    "We will be working with the __Titanic__ dataset in this section."
   ]
  },
  {
   "cell_type": "code",
   "execution_count": null,
   "metadata": {},
   "outputs": [],
   "source": [
    "titanic = sns.load_dataset('titanic')\n",
    "titanic.head()"
   ]
  },
  {
   "cell_type": "markdown",
   "metadata": {},
   "source": [
    "This dataset contains several columns, each one showing a detail a _specific person_."
   ]
  },
  {
   "cell_type": "code",
   "execution_count": null,
   "metadata": {},
   "outputs": [],
   "source": [
    "titanic.columns.tolist()"
   ]
  },
  {
   "cell_type": "markdown",
   "metadata": {},
   "source": [
    "To look at the total number of passengers of titanic, one can look at the `titanic.shape` attribute:"
   ]
  },
  {
   "cell_type": "code",
   "execution_count": null,
   "metadata": {},
   "outputs": [],
   "source": [
    "print('There are a total of {0} passengers, each with a total of {1} attributes'.format(*titanic.shape))"
   ]
  },
  {
   "cell_type": "markdown",
   "metadata": {},
   "source": [
    "Note: I'm renaming two columns to make it easier"
   ]
  },
  {
   "cell_type": "code",
   "execution_count": null,
   "metadata": {
    "collapsed": true
   },
   "outputs": [],
   "source": [
    "titanic.loc[:,'Adult Male'] = titanic['adult_male']\n",
    "titanic.loc[:,'Embark Town'] = titanic['embark_town']"
   ]
  },
  {
   "cell_type": "markdown",
   "metadata": {},
   "source": [
    "__Full description__ of the __full__ _Titanic_ dataset (from [Kaggle.com](https://www.kaggle.com/c/titanic/data))"
   ]
  },
  {
   "cell_type": "markdown",
   "metadata": {},
   "source": [
    "![](./data/Titanic_Description.png)"
   ]
  },
  {
   "cell_type": "markdown",
   "metadata": {},
   "source": [
    "## Analyzing the dataset\n",
    "\n",
    "Now that we have the dataset, we can start by asking the __real questions__:\n",
    "\n",
    "- How many men, women, and children were there on the Titanic?\n",
    "- How old were they?\n",
    "- How much did they pay for their fare?\n",
    "- How many were in first class? Second class?\n",
    "- Did they survive?\n",
    "- Were they by themselves or with friends/family members?\n",
    "- etc.\n",
    "\n",
    "All of these questions can be answered using `Seaborn` and `Pandas`.\n",
    "\n",
    "Let's go ahead and answer these questions:\n",
    "\n",
    "---"
   ]
  },
  {
   "cell_type": "code",
   "execution_count": null,
   "metadata": {
    "collapsed": true
   },
   "outputs": [],
   "source": [
    "## Just defining the colors to use in the plots\n",
    "pal = dict(man=\"#4682B4\", woman=\"#CD5C5C\", child=\"#2E8B57\", male=\"#6495ED\", female=\"#F08080\")"
   ]
  },
  {
   "cell_type": "markdown",
   "metadata": {},
   "source": [
    "### How many men, women, and children were there on the Titanic\n",
    "\n",
    "This is a simple questions that can be answered using _bar charts_."
   ]
  },
  {
   "cell_type": "code",
   "execution_count": null,
   "metadata": {},
   "outputs": [],
   "source": [
    "fig = plt.figure(figsize=(10,5))\n",
    "sns.countplot('sex', data=titanic, palette=pal)"
   ]
  },
  {
   "cell_type": "markdown",
   "metadata": {},
   "source": [
    "We can look at the distribution of ages for the passengers on the Titanic, and figure out how many \n",
    "men, women, and children were on board.\n",
    "This can be done with the same function, but this time we will be using the key __`who`__ from the dataset."
   ]
  },
  {
   "cell_type": "code",
   "execution_count": null,
   "metadata": {},
   "outputs": [],
   "source": [
    "fig = plt.figure(figsize=(10,5))\n",
    "sns.countplot('who', data=titanic, palette=pal)"
   ]
  },
  {
   "cell_type": "markdown",
   "metadata": {},
   "source": [
    "To make it more complete, let's look at the gender of the children"
   ]
  },
  {
   "cell_type": "code",
   "execution_count": null,
   "metadata": {},
   "outputs": [],
   "source": [
    "fig = plt.figure(figsize=(10,5))\n",
    "sns.countplot('sex', hue='who', data=titanic, palette=pal)"
   ]
  },
  {
   "cell_type": "code",
   "execution_count": null,
   "metadata": {},
   "outputs": [],
   "source": [
    "fig = plt.figure(figsize=(10,5))\n",
    "sns.countplot('Adult Male', data=titanic)"
   ]
  },
  {
   "cell_type": "markdown",
   "metadata": {},
   "source": [
    "### How old were they?\n",
    "\n",
    "In this part, we can look at the age distribution for each of the different classes in the dataset\n",
    "\n",
    "First, we want to know the distribution of ages among males and females:"
   ]
  },
  {
   "cell_type": "code",
   "execution_count": null,
   "metadata": {},
   "outputs": [],
   "source": [
    "fig = plt.figure(figsize=(10,5))\n",
    "sns.boxplot('sex', 'age', hue='who', data=titanic, palette=pal)"
   ]
  },
  {
   "cell_type": "markdown",
   "metadata": {},
   "source": [
    "A better way to visualize this with a __violinplot__:"
   ]
  },
  {
   "cell_type": "code",
   "execution_count": null,
   "metadata": {},
   "outputs": [],
   "source": [
    "fig = plt.figure(figsize=(10,5))\n",
    "sns.violinplot('sex', 'age', hue='who', data=titanic, palette=pal)"
   ]
  },
  {
   "cell_type": "markdown",
   "metadata": {},
   "source": [
    "We can look at the distributions of __ages__ for both males and females.\n",
    "We can always add different functions to the `FacetGrid`.\n",
    "\n",
    "This is an example of a KDE-plot for the males and females. Each datapoint is _also_ being \n",
    "plotted as a `stick` on the x-axis."
   ]
  },
  {
   "cell_type": "code",
   "execution_count": null,
   "metadata": {},
   "outputs": [],
   "source": [
    "fg = sns.FacetGrid(titanic, hue='sex', aspect=3, palette=pal)\n",
    "fg.map(sns.kdeplot, \"age\", shade=True)\n",
    "fg.map(sns.rugplot, \"age\")\n",
    "\n",
    "## Adding the legend\n",
    "fg.add_legend()"
   ]
  },
  {
   "cell_type": "markdown",
   "metadata": {},
   "source": [
    "We can do the same plot for the different types of __`who`__ or __`embark_town`__"
   ]
  },
  {
   "cell_type": "code",
   "execution_count": null,
   "metadata": {
    "collapsed": true
   },
   "outputs": [],
   "source": []
  },
  {
   "cell_type": "code",
   "execution_count": null,
   "metadata": {
    "collapsed": true
   },
   "outputs": [],
   "source": []
  },
  {
   "cell_type": "markdown",
   "metadata": {},
   "source": [
    "__`FacetGrid`__ is really powerfull, in that it can show you different statistics for \n",
    "a subsample of your dataset.\n",
    "\n",
    "Let's say we break it down in terms of __sex__ and __age__.\n",
    "We can have the _column_ be `sex` and the _rows_ be the `class`, i.e. first, second, and third class."
   ]
  },
  {
   "cell_type": "code",
   "execution_count": null,
   "metadata": {},
   "outputs": [],
   "source": [
    "fg = sns.FacetGrid(titanic, col='sex', row='class', hue='who', size=2.5, aspect=2, palette=pal)\n",
    "fg.map(sns.kdeplot, 'age', shade=True)\n",
    "fg.map(sns.rugplot, 'age')\n",
    "fg.set(xlim=(1, 80));\n"
   ]
  },
  {
   "cell_type": "markdown",
   "metadata": {},
   "source": [
    "### Survival - Different factors that may have influence if a person survived or not\n",
    "\n",
    "With this dataset, one can see if a person survived or not, and whether or not other \n",
    "parameters influenced this result."
   ]
  },
  {
   "cell_type": "markdown",
   "metadata": {},
   "source": [
    "First, we can look at the total __age__ for the ones that survived or not."
   ]
  },
  {
   "cell_type": "code",
   "execution_count": null,
   "metadata": {},
   "outputs": [],
   "source": [
    "sns.violinplot('survived', 'age', data=titanic)"
   ]
  },
  {
   "cell_type": "markdown",
   "metadata": {},
   "source": [
    "Or another whay of visualizing this is to look at regression model fitted to the data.\n",
    "Seaborn lets you do a regression analysis on the data and estimates the errors for you."
   ]
  },
  {
   "cell_type": "code",
   "execution_count": null,
   "metadata": {},
   "outputs": [],
   "source": [
    "sns.lmplot('age', 'survived', titanic, logistic=True)"
   ]
  },
  {
   "cell_type": "markdown",
   "metadata": {},
   "source": [
    "We can visualize how `sex` and `class` affected the survival rate of the passengers.\n",
    "We will use __bins__ for the age to look at how the survival rates of _men_ and _women_ as \n",
    "functions of age."
   ]
  },
  {
   "cell_type": "code",
   "execution_count": null,
   "metadata": {},
   "outputs": [],
   "source": [
    "sns.lmplot('age','survived',titanic, hue='sex',\n",
    "          palette=pal, logistic=True,\n",
    "          x_bins=[15, 30, 45, 60])"
   ]
  },
  {
   "cell_type": "markdown",
   "metadata": {},
   "source": [
    "Another property that may have influence these rates was probably __class__.\n",
    "We can do a similar plot for the __class__ instead."
   ]
  },
  {
   "cell_type": "code",
   "execution_count": null,
   "metadata": {
    "collapsed": true
   },
   "outputs": [],
   "source": [
    "## Make a similar plot as to the one above, but use 'class' instead of 'sex'\n",
    "\n",
    "\n"
   ]
  },
  {
   "cell_type": "markdown",
   "metadata": {},
   "source": [
    "#### \"Women and Children first\""
   ]
  },
  {
   "cell_type": "markdown",
   "metadata": {},
   "source": [
    "With this dataset, one can see if the children were evacuated or not.\n",
    "We can look at their __class__ to see this"
   ]
  },
  {
   "cell_type": "code",
   "execution_count": null,
   "metadata": {},
   "outputs": [],
   "source": [
    "fg = sns.factorplot('class', 'survived', data=titanic,\n",
    "                    hue='who', col='who',\n",
    "                   palette=pal)\n",
    "fg.set(ylim=(0,1))\n",
    "fg.despine(left=True)"
   ]
  },
  {
   "cell_type": "markdown",
   "metadata": {},
   "source": [
    "This is useful to know. Most of the children who were in _first_ and _second_ class survived, while only \n",
    "40% of those in _third_ class did not."
   ]
  },
  {
   "cell_type": "markdown",
   "metadata": {},
   "source": [
    "### Were they by themselves? Or with family members?\n",
    "\n",
    "One can also look at the number of siblings and parents on board, and see if that had \n",
    "anything to do with the passenger' survival.\n",
    "\n",
    "#### Number of siblings"
   ]
  },
  {
   "cell_type": "code",
   "execution_count": null,
   "metadata": {},
   "outputs": [],
   "source": [
    "sns.lmplot('sibsp', 'survived', titanic, x_estimator=np.mean, logistic=True)"
   ]
  },
  {
   "cell_type": "markdown",
   "metadata": {},
   "source": [
    "## Other datasets and more Seaborn functions\n",
    "\n",
    "### The Iris Dataset\n",
    "\n",
    "One can only do so much with a dataset. The _Titanic_ dataset has plenty of \n",
    "good information, but for some of the plots that seaborn has, this dataset is \n",
    "not the best.\n",
    "\n",
    "Let's try with other dataset, i.e. the __iris__ dataset.\n",
    "\n",
    "This dataset consists of __3 different types of irises__ (Setosa, Versicolour, and \n",
    "Virginica) petal and sepal length.\n",
    "\n",
    "There are about ~1500 different samples"
   ]
  },
  {
   "cell_type": "code",
   "execution_count": null,
   "metadata": {},
   "outputs": [],
   "source": [
    "iris = sns.load_dataset('iris')\n",
    "\n",
    "## Renaming columns\n",
    "iris = rename_cols(iris)"
   ]
  },
  {
   "cell_type": "code",
   "execution_count": null,
   "metadata": {},
   "outputs": [],
   "source": [
    "iris.head()"
   ]
  },
  {
   "cell_type": "markdown",
   "metadata": {},
   "source": [
    "Let's look at a __kernel density__ plot of `sepal width` and `sepal length`"
   ]
  },
  {
   "cell_type": "code",
   "execution_count": null,
   "metadata": {},
   "outputs": [],
   "source": [
    "fig = plt.figure(figsize=(8,8))\n",
    "\n",
    "## Determining our sample\n",
    "setosa    = iris.query(\"species == 'setosa'\")\n",
    "virginica = iris.query(\"species == 'virginica'\")\n",
    "versicolor = iris.query(\"species == 'versicolor'\")\n",
    "\n",
    "ax = sns.kdeplot(setosa['sepal width'], setosa['sepal length'],\n",
    "                 cmap=\"Reds\", shade=True, shade_lowest=False)\n",
    "ax = sns.kdeplot(virginica['sepal width'], virginica['sepal length'],\n",
    "                 cmap=\"Blues\", shade=True, shade_lowest=False)"
   ]
  },
  {
   "cell_type": "markdown",
   "metadata": {},
   "source": [
    "You can look at the __correlations of the different properties__."
   ]
  },
  {
   "cell_type": "code",
   "execution_count": null,
   "metadata": {},
   "outputs": [],
   "source": [
    "sns.pairplot(iris, hue='species')"
   ]
  },
  {
   "cell_type": "markdown",
   "metadata": {},
   "source": [
    "Or maybe you want to also have the __KDE__'s of the correlations"
   ]
  },
  {
   "cell_type": "code",
   "execution_count": null,
   "metadata": {},
   "outputs": [],
   "source": [
    "g = sns.PairGrid(iris, diag_sharey=False)\n",
    "g.map_lower(sns.kdeplot, cmap=\"Blues_d\")\n",
    "g.map_upper(plt.scatter)\n",
    "g.map_diag(sns.kdeplot, lw=3)"
   ]
  },
  {
   "cell_type": "markdown",
   "metadata": {},
   "source": [
    "Or maybe you want to visualize all of them in a single plot"
   ]
  },
  {
   "cell_type": "code",
   "execution_count": null,
   "metadata": {},
   "outputs": [],
   "source": [
    "fig = plt.figure(figsize=(10,10))\n",
    "g = sns.lmplot(x=\"sepal length\", y=\"sepal width\", hue=\"species\",\n",
    "               truncate=True, size=5, data=iris)"
   ]
  },
  {
   "cell_type": "code",
   "execution_count": null,
   "metadata": {},
   "outputs": [],
   "source": [
    "g = sns.jointplot('sepal length', 'sepal width', data=iris, kind='kde',\n",
    "                 size=8)"
   ]
  },
  {
   "cell_type": "markdown",
   "metadata": {},
   "source": [
    "You can also select which _statistic_ to use. Let's use the `Spearman correlation` coefficient, `spearmanr`."
   ]
  },
  {
   "cell_type": "code",
   "execution_count": null,
   "metadata": {},
   "outputs": [],
   "source": [
    "from scipy.stats import spearmanr\n",
    "g = sns.jointplot('sepal length', 'sepal width', data=iris, kind='kde',\n",
    "                 size=8, stat_func=spearmanr, color='red')"
   ]
  },
  {
   "cell_type": "code",
   "execution_count": null,
   "metadata": {
    "collapsed": true
   },
   "outputs": [],
   "source": [
    "## Now try to make the same plot, but try with different `kinds` of \n",
    "## statistics, e.g. \"scatter\", \"reg\", \"resid\", \"kde\", \"hex\"\n",
    "\n"
   ]
  },
  {
   "cell_type": "markdown",
   "metadata": {},
   "source": [
    "You can also show the points as well"
   ]
  },
  {
   "cell_type": "code",
   "execution_count": null,
   "metadata": {},
   "outputs": [],
   "source": [
    "g = sns.jointplot('sepal length', 'sepal width',\n",
    "                 data=iris, color='green',\n",
    "                 stat_func=spearmanr,\n",
    "                 size=8, kind='reg')\n",
    "g.plot_joint(sns.kdeplot, zorder=0, n_levels=6)"
   ]
  },
  {
   "cell_type": "markdown",
   "metadata": {},
   "source": [
    "### The `Planets` Dataset\n",
    "\n",
    "This datasets includes observations for different planets in our Solar System\n"
   ]
  },
  {
   "cell_type": "code",
   "execution_count": null,
   "metadata": {},
   "outputs": [],
   "source": [
    "planets = sns.load_dataset('planets')\n",
    "\n",
    "## Renaming column names\n",
    "planets = rename_cols(planets)"
   ]
  },
  {
   "cell_type": "code",
   "execution_count": null,
   "metadata": {},
   "outputs": [],
   "source": [
    "planets.head()"
   ]
  },
  {
   "cell_type": "markdown",
   "metadata": {},
   "source": [
    "####  A more complicated plot\n",
    "\n",
    "This plot is a boxplot that shows the distribution of _distances_ for each kind of _observations_."
   ]
  },
  {
   "cell_type": "code",
   "execution_count": null,
   "metadata": {},
   "outputs": [],
   "source": [
    "### From https://seaborn.pydata.org/examples/horizontal_boxplot.html\n",
    "import warnings\n",
    "warnings.filterwarnings('ignore')\n",
    "\n",
    "# Initialize the figure with a logarithmic x axis\n",
    "f, ax = plt.subplots(figsize=(8, 6))\n",
    "ax.set_xscale(\"log\")\n",
    "\n",
    "sns.boxplot(x=\"distance\", y=\"method\", data=planets,\n",
    "            whis=np.inf, palette=\"vlag\")\n",
    "\n",
    "# Add in points to show each observation\n",
    "sns.swarmplot(x=\"distance\", y=\"method\", data=planets,\n",
    "              size=2, color=\".3\", linewidth=0)\n",
    "\n",
    "# Tweak the visual presentation\n",
    "ax.xaxis.grid(True)\n",
    "ax.set(ylabel=\"\")\n",
    "sns.despine(trim=True, left=True)"
   ]
  },
  {
   "cell_type": "code",
   "execution_count": null,
   "metadata": {
    "collapsed": true
   },
   "outputs": [],
   "source": [
    "### Now try it with other columns instead of 'distance', e.g. mass, year, etc.\n",
    "\n"
   ]
  },
  {
   "cell_type": "markdown",
   "metadata": {},
   "source": [
    "##### Heatmap of `Planets`"
   ]
  },
  {
   "cell_type": "code",
   "execution_count": null,
   "metadata": {},
   "outputs": [],
   "source": [
    "## Calculate the correlations of attributes\n",
    "planets_corr = planets[['orbital period', 'mass', 'distance', 'year']].corr()"
   ]
  },
  {
   "cell_type": "code",
   "execution_count": null,
   "metadata": {},
   "outputs": [],
   "source": [
    "## Figure\n",
    "f, ax = plt.subplots(figsize=(11, 9))\n",
    "sns.heatmap(planets_corr, square=True, cmap='Reds', linewidths=.5)"
   ]
  },
  {
   "cell_type": "markdown",
   "metadata": {},
   "source": [
    "## Conclusion\n",
    "\n",
    "Today we have shown the power of `Seaborn`. It lets you analyze your dataset really well,\n",
    "and let's you explore your dataset. It offers a variety of plots (KDEs, scatter plots, \n",
    "bar plots, heatmaps, etc.), and it's relatively easy to code.\n",
    "\n",
    "There are many different resources out there to learn more about `Seaborn`.\n",
    "Some of these are:\n",
    "- [Seaborn: statistical data visualization](https://seaborn.pydata.org/index.html)\n",
    "- [The ultimate Python Seaborn Tutorial](https://elitedatascience.com/python-seaborn-tutorial)\n",
    "- [Seaborn Tutorial for Beginners by Kaggle](https://www.kaggle.com/kanncaa1/seaborn-tutorial-for-beginners)\n"
   ]
  },
  {
   "cell_type": "markdown",
   "metadata": {},
   "source": [
    "## Resources\n",
    "\n",
    "There are many resources online that can help you become more confident in `Python`, `Pandas` and `Seaborn`.\n",
    "I've listed some of these below:\n",
    "- [Python course](https://www.codecademy.com/learn/python) by Codecademy\n",
    "- [Learn Python the Hard Way](http://learnpythonthehardway.org/) - Free online course on Python\n",
    "- [Pandas Tutorial: DataFrames in Python](https://www.datacamp.com/community/tutorials/pandas-tutorial-dataframe-python)\n",
    "- [Vanderbilt Astro Computational Workshop](https://vandyastroml.github.io/2017_Spring_Vandy_Computational_Workshop.html) - Semester-long workshop on Python, Pandas, visualization tools, etc. taught by me in Spring 2017. The notebooks are freely available, as well as live version of them."
   ]
  }
 ],
 "metadata": {
  "kernelspec": {
   "display_name": "Python 3",
   "language": "python",
   "name": "python3"
  },
  "language_info": {
   "codemirror_mode": {
    "name": "ipython",
    "version": 3
   },
   "file_extension": ".py",
   "mimetype": "text/x-python",
   "name": "python",
   "nbconvert_exporter": "python",
   "pygments_lexer": "ipython3",
   "version": "3.6.3"
  },
  "latex_envs": {
   "LaTeX_envs_menu_present": true,
   "bibliofile": "biblio.bib",
   "cite_by": "apalike",
   "current_citInitial": 1,
   "eqLabelWithNumbers": true,
   "eqNumInitial": 1,
   "labels_anchors": false,
   "latex_user_defs": false,
   "report_style_numbering": false,
   "user_envs_cfg": false
  }
 },
 "nbformat": 4,
 "nbformat_minor": 2
}
