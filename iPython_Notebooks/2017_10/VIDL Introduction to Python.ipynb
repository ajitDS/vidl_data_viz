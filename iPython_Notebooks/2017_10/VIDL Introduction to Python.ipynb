{
 "cells": [
  {
   "cell_type": "code",
   "execution_count": 1,
   "metadata": {
    "collapsed": true
   },
   "outputs": [],
   "source": [
    "x = 4"
   ]
  },
  {
   "cell_type": "markdown",
   "metadata": {},
   "source": [
    "This is now text"
   ]
  },
  {
   "cell_type": "markdown",
   "metadata": {},
   "source": [
    "# This is going big\n",
    "## Less big\n",
    "### Even Smaller"
   ]
  },
  {
   "cell_type": "markdown",
   "metadata": {},
   "source": [
    "$$ e = mc^2 \\times \\sqrt{4\\pi} $$"
   ]
  },
  {
   "cell_type": "markdown",
   "metadata": {},
   "source": [
    "This is *italics* and this is **bold**"
   ]
  },
  {
   "cell_type": "markdown",
   "metadata": {},
   "source": [
    "****"
   ]
  },
  {
   "cell_type": "markdown",
   "metadata": {},
   "source": [
    "1. Item\n",
    "2. Item\n",
    "    - Subitem\n",
    "    - Subitem\n",
    "3. Item\n",
    "    1. Subitem\n",
    "    2. Subitem\n",
    "4. Item."
   ]
  },
  {
   "cell_type": "code",
   "execution_count": 2,
   "metadata": {},
   "outputs": [
    {
     "data": {
      "application/json": {
       "cell": {
        "!": "OSMagics",
        "HTML": "Other",
        "SVG": "Other",
        "bash": "Other",
        "capture": "ExecutionMagics",
        "debug": "ExecutionMagics",
        "file": "Other",
        "html": "DisplayMagics",
        "javascript": "DisplayMagics",
        "js": "DisplayMagics",
        "latex": "DisplayMagics",
        "perl": "Other",
        "prun": "ExecutionMagics",
        "pypy": "Other",
        "python": "Other",
        "python2": "Other",
        "python3": "Other",
        "ruby": "Other",
        "script": "ScriptMagics",
        "sh": "Other",
        "svg": "DisplayMagics",
        "sx": "OSMagics",
        "system": "OSMagics",
        "time": "ExecutionMagics",
        "timeit": "ExecutionMagics",
        "writefile": "OSMagics"
       },
       "line": {
        "alias": "OSMagics",
        "alias_magic": "BasicMagics",
        "autocall": "AutoMagics",
        "automagic": "AutoMagics",
        "autosave": "KernelMagics",
        "bookmark": "OSMagics",
        "cat": "Other",
        "cd": "OSMagics",
        "clear": "KernelMagics",
        "colors": "BasicMagics",
        "config": "ConfigMagics",
        "connect_info": "KernelMagics",
        "cp": "Other",
        "debug": "ExecutionMagics",
        "dhist": "OSMagics",
        "dirs": "OSMagics",
        "doctest_mode": "BasicMagics",
        "ed": "Other",
        "edit": "KernelMagics",
        "env": "OSMagics",
        "gui": "BasicMagics",
        "hist": "Other",
        "history": "HistoryMagics",
        "killbgscripts": "ScriptMagics",
        "ldir": "Other",
        "less": "KernelMagics",
        "lf": "Other",
        "lk": "Other",
        "ll": "Other",
        "load": "CodeMagics",
        "load_ext": "ExtensionMagics",
        "loadpy": "CodeMagics",
        "logoff": "LoggingMagics",
        "logon": "LoggingMagics",
        "logstart": "LoggingMagics",
        "logstate": "LoggingMagics",
        "logstop": "LoggingMagics",
        "ls": "Other",
        "lsmagic": "BasicMagics",
        "lx": "Other",
        "macro": "ExecutionMagics",
        "magic": "BasicMagics",
        "man": "KernelMagics",
        "matplotlib": "PylabMagics",
        "mkdir": "Other",
        "more": "KernelMagics",
        "mv": "Other",
        "notebook": "BasicMagics",
        "page": "BasicMagics",
        "pastebin": "CodeMagics",
        "pdb": "ExecutionMagics",
        "pdef": "NamespaceMagics",
        "pdoc": "NamespaceMagics",
        "pfile": "NamespaceMagics",
        "pinfo": "NamespaceMagics",
        "pinfo2": "NamespaceMagics",
        "popd": "OSMagics",
        "pprint": "BasicMagics",
        "precision": "BasicMagics",
        "profile": "BasicMagics",
        "prun": "ExecutionMagics",
        "psearch": "NamespaceMagics",
        "psource": "NamespaceMagics",
        "pushd": "OSMagics",
        "pwd": "OSMagics",
        "pycat": "OSMagics",
        "pylab": "PylabMagics",
        "qtconsole": "KernelMagics",
        "quickref": "BasicMagics",
        "recall": "HistoryMagics",
        "rehashx": "OSMagics",
        "reload_ext": "ExtensionMagics",
        "rep": "Other",
        "rerun": "HistoryMagics",
        "reset": "NamespaceMagics",
        "reset_selective": "NamespaceMagics",
        "rm": "Other",
        "rmdir": "Other",
        "run": "ExecutionMagics",
        "save": "CodeMagics",
        "sc": "OSMagics",
        "set_env": "OSMagics",
        "store": "StoreMagics",
        "sx": "OSMagics",
        "system": "OSMagics",
        "tb": "ExecutionMagics",
        "time": "ExecutionMagics",
        "timeit": "ExecutionMagics",
        "unalias": "OSMagics",
        "unload_ext": "ExtensionMagics",
        "who": "NamespaceMagics",
        "who_ls": "NamespaceMagics",
        "whos": "NamespaceMagics",
        "xdel": "NamespaceMagics",
        "xmode": "BasicMagics"
       }
      },
      "text/plain": [
       "Available line magics:\n",
       "%alias  %alias_magic  %autocall  %automagic  %autosave  %bookmark  %cat  %cd  %clear  %colors  %config  %connect_info  %cp  %debug  %dhist  %dirs  %doctest_mode  %ed  %edit  %env  %gui  %hist  %history  %killbgscripts  %ldir  %less  %lf  %lk  %ll  %load  %load_ext  %loadpy  %logoff  %logon  %logstart  %logstate  %logstop  %ls  %lsmagic  %lx  %macro  %magic  %man  %matplotlib  %mkdir  %more  %mv  %notebook  %page  %pastebin  %pdb  %pdef  %pdoc  %pfile  %pinfo  %pinfo2  %popd  %pprint  %precision  %profile  %prun  %psearch  %psource  %pushd  %pwd  %pycat  %pylab  %qtconsole  %quickref  %recall  %rehashx  %reload_ext  %rep  %rerun  %reset  %reset_selective  %rm  %rmdir  %run  %save  %sc  %set_env  %store  %sx  %system  %tb  %time  %timeit  %unalias  %unload_ext  %who  %who_ls  %whos  %xdel  %xmode\n",
       "\n",
       "Available cell magics:\n",
       "%%!  %%HTML  %%SVG  %%bash  %%capture  %%debug  %%file  %%html  %%javascript  %%js  %%latex  %%perl  %%prun  %%pypy  %%python  %%python2  %%python3  %%ruby  %%script  %%sh  %%svg  %%sx  %%system  %%time  %%timeit  %%writefile\n",
       "\n",
       "Automagic is ON, % prefix IS NOT needed for line magics."
      ]
     },
     "execution_count": 2,
     "metadata": {},
     "output_type": "execute_result"
    }
   ],
   "source": [
    "%lsmagic"
   ]
  },
  {
   "cell_type": "code",
   "execution_count": 3,
   "metadata": {},
   "outputs": [
    {
     "data": {
      "text/plain": [
       "'/Users/bobbyb/Documents/classes/sc250/Notebooks'"
      ]
     },
     "execution_count": 3,
     "metadata": {},
     "output_type": "execute_result"
    }
   ],
   "source": [
    "%pwd"
   ]
  },
  {
   "cell_type": "code",
   "execution_count": 4,
   "metadata": {},
   "outputs": [
    {
     "name": "stdout",
     "output_type": "stream",
     "text": [
      "100m-WR-back-M.csv\r\n",
      "100m-WR-back-M.tsv\r\n",
      "100m-WR-back-W.csv\r\n",
      "100m-WR-back-W.tsv\r\n",
      "100m-WR-breast-M.tsv\r\n",
      "100m-WR-breast-W.tsv\r\n",
      "100m-WR-fly-M.tsv\r\n",
      "100m-WR-fly-W.tsv\r\n",
      "100m-WR-free-M.csv\r\n",
      "100m-WR-free-W.csv\r\n",
      "200m-IM-M.tsv\r\n",
      "200m-IM-W.tsv\r\n",
      "200m-WR-IM-M.csv\r\n",
      "Debugging - Quick Intro.ipynb\r\n",
      "FastRecalibration.csv\r\n",
      "Floating Point and Pandas.ipynb\r\n",
      "\u001b[34mFourier\u001b[m\u001b[m/\r\n",
      "\u001b[34mFourierTalkOSCON-master\u001b[m\u001b[m/\r\n",
      "FourierTransorm.zip\r\n",
      "Graphs for IEEE VR Paper.ipynb\r\n",
      "HW3-start-AT.ipynb\r\n",
      "Homework 2 Solutions.ipynb\r\n",
      "Homework 3 Solutions.ipynb\r\n",
      "Homework 4 Pre-Solutions.ipynb\r\n",
      "Homework 4 Solutions.ipynb\r\n",
      "JupyterWorkflow.ipynb\r\n",
      "\u001b[34mLIGO\u001b[m\u001b[m/\r\n",
      "Lecture 1 Notebook Example.ipynb\r\n",
      "Lecture 2 - Matplotlib, Numpy, Scipy, and Modules.ipynb\r\n",
      "Moving Average vs Convolution for Oceanographic Data.ipynb\r\n",
      "\u001b[34mPDF\u001b[m\u001b[m/\r\n",
      "PrismData-Teens.csv\r\n",
      "PrismData.csv\r\n",
      "PrismDataAll.csv\r\n",
      "Python Recitation Notebook.ipynb\r\n",
      "Recalibration.csv\r\n",
      "SN_m_tot_V2.0.csv\r\n",
      "Swimming Scraping and Visualization.ipynb\r\n",
      "Swimming-100m-free-M.csv\r\n",
      "Tutorial for SC 3250.ipynb\r\n",
      "Untitled.ipynb\r\n",
      "Untitled1.ipynb\r\n",
      "Untitled2.ipynb\r\n",
      "Untitled3.ipynb\r\n",
      "Untitled4.ipynb\r\n",
      "VIDL Introduction to Python.ipynb\r\n",
      "VIDL-Prep.ipynb\r\n",
      "\u001b[34m__pycache__\u001b[m\u001b[m/\r\n",
      "ch4.tsv\r\n",
      "ch4nat.txt\r\n",
      "co2.tsv\r\n",
      "co2nat.txt\r\n",
      "data_2015-16_suppressed_district_level_act.csv\r\n",
      "firstminuspre.pdf\r\n",
      "\u001b[34mfreewr\u001b[m\u001b[m/\r\n",
      "icedata.tsv\r\n",
      "listings.csv\r\n",
      "pickle_example\r\n",
      "postminuspre.pdf\r\n",
      "snippets.txt\r\n",
      "\u001b[34mswimmer\u001b[m\u001b[m/\r\n",
      "swimmer.zip\r\n",
      "\u001b[34mswims\u001b[m\u001b[m/\r\n",
      "\u001b[34mswims2\u001b[m\u001b[m/\r\n",
      "\u001b[34mtestmod\u001b[m\u001b[m/\r\n",
      "\u001b[34mtmp\u001b[m\u001b[m/\r\n",
      "untitled.txt\r\n",
      "wikitablescrape.py\r\n"
     ]
    }
   ],
   "source": [
    "%ls"
   ]
  },
  {
   "cell_type": "code",
   "execution_count": 5,
   "metadata": {
    "collapsed": true
   },
   "outputs": [],
   "source": [
    "%matplotlib inline"
   ]
  },
  {
   "cell_type": "code",
   "execution_count": 6,
   "metadata": {},
   "outputs": [
    {
     "data": {
      "image/png": "[encoded data removed]",
      "text/plain": [
       "<matplotlib.figure.Figure at 0x1181b6e48>"
      ]
     },
     "metadata": {},
     "output_type": "display_data"
    }
   ],
   "source": [
    "import numpy as np\n",
    "import matplotlib.pylab as plt\n",
    "x = np.arange(0,1,0.001)*12*np.pi\n",
    "y = np.sin(x)\n",
    "plt.plot(x,y)\n",
    "plt.show()"
   ]
  },
  {
   "cell_type": "code",
   "execution_count": 7,
   "metadata": {
    "collapsed": true
   },
   "outputs": [],
   "source": [
    "y = 4.5"
   ]
  },
  {
   "cell_type": "code",
   "execution_count": 8,
   "metadata": {},
   "outputs": [
    {
     "name": "stdout",
     "output_type": "stream",
     "text": [
      "4.5\n"
     ]
    }
   ],
   "source": [
    "print(y)"
   ]
  },
  {
   "cell_type": "code",
   "execution_count": 9,
   "metadata": {},
   "outputs": [
    {
     "name": "stdout",
     "output_type": "stream",
     "text": [
      "4.5\n"
     ]
    }
   ],
   "source": [
    "print(y)"
   ]
  },
  {
   "cell_type": "markdown",
   "metadata": {},
   "source": [
    "In the workshop, I couldn't get this to work because I was using a url for the youtube video of the form www.youtube.com/watch?v=whatever. The solution is to change the url to www.youtube.com/embed/whatever. There may be some urls for which this doesn't work."
   ]
  },
  {
   "cell_type": "code",
   "execution_count": 30,
   "metadata": {},
   "outputs": [
    {
     "data": {
      "text/html": [
       "<iframe width=\"400\" height=\"300\" src=\"https://www.youtube.com/embed/7i9rm6XOqs0\"></iframe>"
      ],
      "text/plain": [
       "<IPython.core.display.HTML object>"
      ]
     },
     "metadata": {},
     "output_type": "display_data"
    }
   ],
   "source": [
    "%%HTML\n",
    "<iframe width=\"400\" height=\"300\" src=\"https://www.youtube.com/embed/7i9rm6XOqs0\"></iframe>"
   ]
  },
  {
   "cell_type": "code",
   "execution_count": 11,
   "metadata": {},
   "outputs": [
    {
     "name": "stdout",
     "output_type": "stream",
     "text": [
      "1000 loops, best of 3: 1.07 ms per loop\n"
     ]
    }
   ],
   "source": [
    "%%timeit\n",
    "for i in range(10000):\n",
    "    i*i*i\n"
   ]
  },
  {
   "cell_type": "code",
   "execution_count": 12,
   "metadata": {
    "collapsed": true
   },
   "outputs": [],
   "source": [
    "import pandas as pd\n",
    "import wikitablescrape"
   ]
  },
  {
   "cell_type": "code",
   "execution_count": 13,
   "metadata": {
    "collapsed": true
   },
   "outputs": [],
   "source": [
    "page = \"https://en.wikipedia.org/wiki/World_record_progression_100_metres_freestyle\""
   ]
  },
  {
   "cell_type": "code",
   "execution_count": 14,
   "metadata": {
    "collapsed": true
   },
   "outputs": [],
   "source": [
    "wikitablescrape.scrape(url=page,output_name='freewr')"
   ]
  },
  {
   "cell_type": "code",
   "execution_count": 15,
   "metadata": {
    "collapsed": true
   },
   "outputs": [],
   "source": [
    "mf = pd.read_csv('freewr/freewr.csv',header=0)\n",
    "wf = pd.read_csv('freewr/freewr_2.csv',header=0)"
   ]
  },
  {
   "cell_type": "code",
   "execution_count": 16,
   "metadata": {},
   "outputs": [
    {
     "data": {
      "text/html": [
       "<div>\n",
       "<style>\n",
       "    .dataframe thead tr:only-child th {\n",
       "        text-align: right;\n",
       "    }\n",
       "\n",
       "    .dataframe thead th {\n",
       "        text-align: left;\n",
       "    }\n",
       "\n",
       "    .dataframe tbody tr th {\n",
       "        vertical-align: top;\n",
       "    }\n",
       "</style>\n",
       "<table border=\"1\" class=\"dataframe\">\n",
       "  <thead>\n",
       "    <tr style=\"text-align: right;\">\n",
       "      <th></th>\n",
       "      <th>#</th>\n",
       "      <th>Time</th>\n",
       "      <th>Unnamed: 2</th>\n",
       "      <th>Name</th>\n",
       "      <th>Nationality</th>\n",
       "      <th>Date</th>\n",
       "      <th>Meet</th>\n",
       "      <th>Location</th>\n",
       "      <th>Ref</th>\n",
       "    </tr>\n",
       "  </thead>\n",
       "  <tbody>\n",
       "    <tr>\n",
       "      <th>0</th>\n",
       "      <td>1</td>\n",
       "      <td>1:05.8</td>\n",
       "      <td>NaN</td>\n",
       "      <td>Zoltán Halmay</td>\n",
       "      <td>Hungary</td>\n",
       "      <td>3 Dec 1905</td>\n",
       "      <td>–</td>\n",
       "      <td>Vienna, Austria</td>\n",
       "      <td>NaN</td>\n",
       "    </tr>\n",
       "    <tr>\n",
       "      <th>1</th>\n",
       "      <td>2</td>\n",
       "      <td>1:05.6</td>\n",
       "      <td>NaN</td>\n",
       "      <td>Charles Daniels</td>\n",
       "      <td>United States</td>\n",
       "      <td>20 Jul 1908</td>\n",
       "      <td>Olympic Games</td>\n",
       "      <td>London, United Kingdom</td>\n",
       "      <td>NaN</td>\n",
       "    </tr>\n",
       "    <tr>\n",
       "      <th>2</th>\n",
       "      <td>3</td>\n",
       "      <td>1:02.8</td>\n",
       "      <td>(tt)</td>\n",
       "      <td>Charles Daniels</td>\n",
       "      <td>United States</td>\n",
       "      <td>15 Apr 1910</td>\n",
       "      <td>Special record attempt by the New York AC</td>\n",
       "      <td>New York City, United States</td>\n",
       "      <td>NaN</td>\n",
       "    </tr>\n",
       "    <tr>\n",
       "      <th>3</th>\n",
       "      <td>4</td>\n",
       "      <td>1:02.4</td>\n",
       "      <td>NaN</td>\n",
       "      <td>Kurt Bretting</td>\n",
       "      <td>Germany</td>\n",
       "      <td>6 Apr 1912</td>\n",
       "      <td>–</td>\n",
       "      <td>Brussels, Belgium</td>\n",
       "      <td>NaN</td>\n",
       "    </tr>\n",
       "    <tr>\n",
       "      <th>4</th>\n",
       "      <td>5</td>\n",
       "      <td>1:01.6</td>\n",
       "      <td>NaN</td>\n",
       "      <td>Duke Kahanamoku</td>\n",
       "      <td>United States</td>\n",
       "      <td>20 Jul 1912</td>\n",
       "      <td>–</td>\n",
       "      <td>Hamburg, Germany</td>\n",
       "      <td>NaN</td>\n",
       "    </tr>\n",
       "    <tr>\n",
       "      <th>5</th>\n",
       "      <td>6</td>\n",
       "      <td>1:01.4</td>\n",
       "      <td>NaN</td>\n",
       "      <td>Duke Kahanamoku</td>\n",
       "      <td>United States</td>\n",
       "      <td>9 Aug 1918</td>\n",
       "      <td>International exhibition</td>\n",
       "      <td>New York City, United States</td>\n",
       "      <td>NaN</td>\n",
       "    </tr>\n",
       "    <tr>\n",
       "      <th>6</th>\n",
       "      <td>7</td>\n",
       "      <td>1:00.4</td>\n",
       "      <td>NaN</td>\n",
       "      <td>Duke Kahanamoku</td>\n",
       "      <td>United States</td>\n",
       "      <td>24 Aug 1920</td>\n",
       "      <td>Olympic Games</td>\n",
       "      <td>Antwerp, Belgium</td>\n",
       "      <td>NaN</td>\n",
       "    </tr>\n",
       "    <tr>\n",
       "      <th>7</th>\n",
       "      <td>8</td>\n",
       "      <td>58.6</td>\n",
       "      <td>NaN</td>\n",
       "      <td>Johnny Weissmuller</td>\n",
       "      <td>United States</td>\n",
       "      <td>19 Jul 1922</td>\n",
       "      <td>–</td>\n",
       "      <td>Alameda, California, United States</td>\n",
       "      <td>NaN</td>\n",
       "    </tr>\n",
       "    <tr>\n",
       "      <th>8</th>\n",
       "      <td>9</td>\n",
       "      <td>57.4</td>\n",
       "      <td>NaN</td>\n",
       "      <td>Johnny Weissmuller</td>\n",
       "      <td>United States</td>\n",
       "      <td>17 Feb 1924</td>\n",
       "      <td>–</td>\n",
       "      <td>Miami, United States</td>\n",
       "      <td>NaN</td>\n",
       "    </tr>\n",
       "    <tr>\n",
       "      <th>9</th>\n",
       "      <td>10</td>\n",
       "      <td>56.8</td>\n",
       "      <td>NaN</td>\n",
       "      <td>Peter Fick</td>\n",
       "      <td>United States</td>\n",
       "      <td>2 Mar 1934</td>\n",
       "      <td>Yale University Swimming Carnival</td>\n",
       "      <td>New Haven, United States</td>\n",
       "      <td>NaN</td>\n",
       "    </tr>\n",
       "  </tbody>\n",
       "</table>\n",
       "</div>"
      ],
      "text/plain": [
       "    #    Time Unnamed: 2                Name    Nationality         Date  \\\n",
       "0   1  1:05.8        NaN       Zoltán Halmay        Hungary   3 Dec 1905   \n",
       "1   2  1:05.6        NaN     Charles Daniels  United States  20 Jul 1908   \n",
       "2   3  1:02.8       (tt)     Charles Daniels  United States  15 Apr 1910   \n",
       "3   4  1:02.4        NaN       Kurt Bretting        Germany   6 Apr 1912   \n",
       "4   5  1:01.6        NaN     Duke Kahanamoku  United States  20 Jul 1912   \n",
       "5   6  1:01.4        NaN     Duke Kahanamoku  United States   9 Aug 1918   \n",
       "6   7  1:00.4        NaN     Duke Kahanamoku  United States  24 Aug 1920   \n",
       "7   8    58.6        NaN  Johnny Weissmuller  United States  19 Jul 1922   \n",
       "8   9    57.4        NaN  Johnny Weissmuller  United States  17 Feb 1924   \n",
       "9  10    56.8        NaN          Peter Fick  United States   2 Mar 1934   \n",
       "\n",
       "                                        Meet  \\\n",
       "0                                          –   \n",
       "1                              Olympic Games   \n",
       "2  Special record attempt by the New York AC   \n",
       "3                                          –   \n",
       "4                                          –   \n",
       "5                   International exhibition   \n",
       "6                              Olympic Games   \n",
       "7                                          –   \n",
       "8                                          –   \n",
       "9          Yale University Swimming Carnival   \n",
       "\n",
       "                             Location  Ref  \n",
       "0                     Vienna, Austria  NaN  \n",
       "1              London, United Kingdom  NaN  \n",
       "2        New York City, United States  NaN  \n",
       "3                   Brussels, Belgium  NaN  \n",
       "4                    Hamburg, Germany  NaN  \n",
       "5        New York City, United States  NaN  \n",
       "6                    Antwerp, Belgium  NaN  \n",
       "7  Alameda, California, United States  NaN  \n",
       "8                Miami, United States  NaN  \n",
       "9            New Haven, United States  NaN  "
      ]
     },
     "execution_count": 16,
     "metadata": {},
     "output_type": "execute_result"
    }
   ],
   "source": [
    "mf.head(10)"
   ]
  },
  {
   "cell_type": "code",
   "execution_count": 17,
   "metadata": {},
   "outputs": [
    {
     "data": {
      "text/plain": [
       "0      3 Dec 1905\n",
       "1     20 Jul 1908\n",
       "2     15 Apr 1910\n",
       "3      6 Apr 1912\n",
       "4     20 Jul 1912\n",
       "5      9 Aug 1918\n",
       "6     24 Aug 1920\n",
       "7     19 Jul 1922\n",
       "8     17 Feb 1924\n",
       "9      2 Mar 1934\n",
       "10     5 Mar 1935\n",
       "11    11 Feb 1936\n",
       "12    13 Apr 1944\n",
       "13    15 Sep 1947\n",
       "14    29 Jun 1948\n",
       "15     1 Apr 1954\n",
       "16    30 Nov 1956\n",
       "17    19 Jan 1957\n",
       "18    28 Jan 1957\n",
       "19    18 Aug 1961\n",
       "20    20 Sep 1961\n",
       "21    13 Sep 1964\n",
       "22    14 Oct 1964\n",
       "23    27 Jul 1967\n",
       "24     2 Sep 1968\n",
       "25    19 Oct 1968\n",
       "26    23 Aug 1970\n",
       "27     5 Aug 1972\n",
       "28     3 Sep 1972\n",
       "29    21 Jun 1975\n",
       "30     3 Aug 1975\n",
       "31    23 Aug 1975\n",
       "32    24 Jul 1976\n",
       "33    25 Jul 1976\n",
       "34    14 Aug 1976\n",
       "35     3 Apr 1981\n",
       "36     6 Aug 1985\n",
       "37     6 Aug 1985\n",
       "38    24 Jun 1986\n",
       "39    10 Aug 1988\n",
       "40    18 Jun 1994\n",
       "41    16 Sep 2000\n",
       "42    19 Sep 2000\n",
       "43    21 Mar 2008\n",
       "44    22 Mar 2008\n",
       "45    11 Aug 2008\n",
       "46    13 Aug 2008\n",
       "47    13 Aug 2008\n",
       "48    23 Apr 2009\n",
       "49    30 Jul 2009\n",
       "Name: Date, dtype: object"
      ]
     },
     "execution_count": 17,
     "metadata": {},
     "output_type": "execute_result"
    }
   ],
   "source": [
    "mf['Date']"
   ]
  },
  {
   "cell_type": "code",
   "execution_count": 18,
   "metadata": {},
   "outputs": [
    {
     "data": {
      "text/plain": [
       "0    1905-12-03\n",
       "1    1908-07-20\n",
       "2    1910-04-15\n",
       "3    1912-04-06\n",
       "4    1912-07-20\n",
       "5    1918-08-09\n",
       "6    1920-08-24\n",
       "7    1922-07-19\n",
       "8    1924-02-17\n",
       "9    1934-03-02\n",
       "10   1935-03-05\n",
       "11   1936-02-11\n",
       "12   1944-04-13\n",
       "13   1947-09-15\n",
       "14   1948-06-29\n",
       "15   1954-04-01\n",
       "16   1956-11-30\n",
       "17   1957-01-19\n",
       "18   1957-01-28\n",
       "19   1961-08-18\n",
       "20   1961-09-20\n",
       "21   1964-09-13\n",
       "22   1964-10-14\n",
       "23   1967-07-27\n",
       "24   1968-09-02\n",
       "25   1968-10-19\n",
       "26   1970-08-23\n",
       "27   1972-08-05\n",
       "28   1972-09-03\n",
       "29   1975-06-21\n",
       "30   1975-08-03\n",
       "31   1975-08-23\n",
       "32   1976-07-24\n",
       "33   1976-07-25\n",
       "34   1976-08-14\n",
       "35   1981-04-03\n",
       "36   1985-08-06\n",
       "37   1985-08-06\n",
       "38   1986-06-24\n",
       "39   1988-08-10\n",
       "40   1994-06-18\n",
       "41   2000-09-16\n",
       "42   2000-09-19\n",
       "43   2008-03-21\n",
       "44   2008-03-22\n",
       "45   2008-08-11\n",
       "46   2008-08-13\n",
       "47   2008-08-13\n",
       "48   2009-04-23\n",
       "49   2009-07-30\n",
       "Name: Date, dtype: datetime64[ns]"
      ]
     },
     "execution_count": 18,
     "metadata": {},
     "output_type": "execute_result"
    }
   ],
   "source": [
    "mf['Date']=pd.to_datetime(mf['Date'])\n",
    "mf['Date']"
   ]
  },
  {
   "cell_type": "code",
   "execution_count": 25,
   "metadata": {
    "collapsed": true
   },
   "outputs": [],
   "source": [
    "def process_time(x):\n",
    "    x = str(x)  # At Kate's suggestion, always convert x to be a string\n",
    "    if \":\" in x:\n",
    "        time = x.split(\":\")\n",
    "        return 60.0*float(time[0])+float(time[1])\n",
    "    else:\n",
    "        return float(x)"
   ]
  },
  {
   "cell_type": "code",
   "execution_count": 26,
   "metadata": {},
   "outputs": [],
   "source": [
    "mf['Time']=mf['Time'].apply(process_time)\n",
    "wf['Time']=wf['Time'].apply(process_time)\n",
    "wf['Date']=pd.to_datetime(wf['Date'])"
   ]
  },
  {
   "cell_type": "code",
   "execution_count": 27,
   "metadata": {},
   "outputs": [
    {
     "data": {
      "text/html": [
       "<div>\n",
       "<style>\n",
       "    .dataframe thead tr:only-child th {\n",
       "        text-align: right;\n",
       "    }\n",
       "\n",
       "    .dataframe thead th {\n",
       "        text-align: left;\n",
       "    }\n",
       "\n",
       "    .dataframe tbody tr th {\n",
       "        vertical-align: top;\n",
       "    }\n",
       "</style>\n",
       "<table border=\"1\" class=\"dataframe\">\n",
       "  <thead>\n",
       "    <tr style=\"text-align: right;\">\n",
       "      <th></th>\n",
       "      <th>#</th>\n",
       "      <th>Time</th>\n",
       "      <th>Unnamed: 2</th>\n",
       "      <th>Name</th>\n",
       "      <th>Nationality</th>\n",
       "      <th>Date</th>\n",
       "      <th>Meet</th>\n",
       "      <th>Location</th>\n",
       "      <th>Ref</th>\n",
       "    </tr>\n",
       "  </thead>\n",
       "  <tbody>\n",
       "    <tr>\n",
       "      <th>0</th>\n",
       "      <td>1</td>\n",
       "      <td>95.0</td>\n",
       "      <td>NaN</td>\n",
       "      <td>Martha Gerstung</td>\n",
       "      <td>Germany</td>\n",
       "      <td>1908-10-18</td>\n",
       "      <td>–</td>\n",
       "      <td>Magdeburg, Germany</td>\n",
       "      <td>NaN</td>\n",
       "    </tr>\n",
       "    <tr>\n",
       "      <th>1</th>\n",
       "      <td>2</td>\n",
       "      <td>86.6</td>\n",
       "      <td>NaN</td>\n",
       "      <td>Claire Guttenstein</td>\n",
       "      <td>Belgium</td>\n",
       "      <td>1910-10-02</td>\n",
       "      <td>–</td>\n",
       "      <td>Schaerbeek, Belgium</td>\n",
       "      <td>NaN</td>\n",
       "    </tr>\n",
       "    <tr>\n",
       "      <th>2</th>\n",
       "      <td>3</td>\n",
       "      <td>84.6</td>\n",
       "      <td>NaN</td>\n",
       "      <td>Daisy Curwen</td>\n",
       "      <td>Great Britain</td>\n",
       "      <td>1911-09-29</td>\n",
       "      <td>–</td>\n",
       "      <td>Liverpool, United Kingdom</td>\n",
       "      <td>NaN</td>\n",
       "    </tr>\n",
       "    <tr>\n",
       "      <th>3</th>\n",
       "      <td>4</td>\n",
       "      <td>80.6</td>\n",
       "      <td>NaN</td>\n",
       "      <td>Daisy Curwen</td>\n",
       "      <td>Great Britain</td>\n",
       "      <td>1912-06-10</td>\n",
       "      <td>–</td>\n",
       "      <td>Birkenhead, United Kingdom</td>\n",
       "      <td>NaN</td>\n",
       "    </tr>\n",
       "    <tr>\n",
       "      <th>4</th>\n",
       "      <td>5</td>\n",
       "      <td>79.8</td>\n",
       "      <td>NaN</td>\n",
       "      <td>Fanny Durack</td>\n",
       "      <td>Australia</td>\n",
       "      <td>1912-07-09</td>\n",
       "      <td>Olympic Games</td>\n",
       "      <td>Stockholm, Sweden</td>\n",
       "      <td>NaN</td>\n",
       "    </tr>\n",
       "    <tr>\n",
       "      <th>5</th>\n",
       "      <td>6</td>\n",
       "      <td>78.8</td>\n",
       "      <td>NaN</td>\n",
       "      <td>Fanny Durack</td>\n",
       "      <td>Australia</td>\n",
       "      <td>1912-07-21</td>\n",
       "      <td>–</td>\n",
       "      <td>Hamburg, Germany</td>\n",
       "      <td>NaN</td>\n",
       "    </tr>\n",
       "    <tr>\n",
       "      <th>6</th>\n",
       "      <td>7</td>\n",
       "      <td>76.2</td>\n",
       "      <td>NaN</td>\n",
       "      <td>Fanny Durack</td>\n",
       "      <td>Australia</td>\n",
       "      <td>1915-02-06</td>\n",
       "      <td>NSW Ladies' Amateur Championships</td>\n",
       "      <td>Sydney, Australia</td>\n",
       "      <td>NaN</td>\n",
       "    </tr>\n",
       "    <tr>\n",
       "      <th>7</th>\n",
       "      <td>8</td>\n",
       "      <td>74.4</td>\n",
       "      <td>sf</td>\n",
       "      <td>Ethelda Bleibtrey</td>\n",
       "      <td>United States</td>\n",
       "      <td>1920-08-23</td>\n",
       "      <td>Olympic Games</td>\n",
       "      <td>Antwerp, Belgium</td>\n",
       "      <td>NaN</td>\n",
       "    </tr>\n",
       "    <tr>\n",
       "      <th>8</th>\n",
       "      <td>9</td>\n",
       "      <td>73.6</td>\n",
       "      <td>NaN</td>\n",
       "      <td>Ethelda Bleibtrey</td>\n",
       "      <td>United States</td>\n",
       "      <td>1920-08-25</td>\n",
       "      <td>Olympic Games</td>\n",
       "      <td>Antwerp, Belgium</td>\n",
       "      <td>NaN</td>\n",
       "    </tr>\n",
       "    <tr>\n",
       "      <th>9</th>\n",
       "      <td>10</td>\n",
       "      <td>72.8</td>\n",
       "      <td>NaN</td>\n",
       "      <td>Gertrude Ederle</td>\n",
       "      <td>United States</td>\n",
       "      <td>1923-06-30</td>\n",
       "      <td>–</td>\n",
       "      <td>Newark, New Jersey, United States</td>\n",
       "      <td>NaN</td>\n",
       "    </tr>\n",
       "  </tbody>\n",
       "</table>\n",
       "</div>"
      ],
      "text/plain": [
       "    #  Time Unnamed: 2                Name    Nationality       Date  \\\n",
       "0   1  95.0        NaN     Martha Gerstung        Germany 1908-10-18   \n",
       "1   2  86.6        NaN  Claire Guttenstein        Belgium 1910-10-02   \n",
       "2   3  84.6        NaN        Daisy Curwen  Great Britain 1911-09-29   \n",
       "3   4  80.6        NaN        Daisy Curwen  Great Britain 1912-06-10   \n",
       "4   5  79.8        NaN        Fanny Durack      Australia 1912-07-09   \n",
       "5   6  78.8        NaN        Fanny Durack      Australia 1912-07-21   \n",
       "6   7  76.2        NaN        Fanny Durack      Australia 1915-02-06   \n",
       "7   8  74.4         sf   Ethelda Bleibtrey  United States 1920-08-23   \n",
       "8   9  73.6        NaN   Ethelda Bleibtrey  United States 1920-08-25   \n",
       "9  10  72.8        NaN     Gertrude Ederle  United States 1923-06-30   \n",
       "\n",
       "                                Meet                           Location  Ref  \n",
       "0                                  –                 Magdeburg, Germany  NaN  \n",
       "1                                  –                Schaerbeek, Belgium  NaN  \n",
       "2                                  –          Liverpool, United Kingdom  NaN  \n",
       "3                                  –         Birkenhead, United Kingdom  NaN  \n",
       "4                      Olympic Games                  Stockholm, Sweden  NaN  \n",
       "5                                  –                   Hamburg, Germany  NaN  \n",
       "6  NSW Ladies' Amateur Championships                  Sydney, Australia  NaN  \n",
       "7                      Olympic Games                   Antwerp, Belgium  NaN  \n",
       "8                      Olympic Games                   Antwerp, Belgium  NaN  \n",
       "9                                  –  Newark, New Jersey, United States  NaN  "
      ]
     },
     "execution_count": 27,
     "metadata": {},
     "output_type": "execute_result"
    }
   ],
   "source": [
    "wf.head(10)"
   ]
  },
  {
   "cell_type": "code",
   "execution_count": 28,
   "metadata": {},
   "outputs": [
    {
     "data": {
      "text/plain": [
       "<matplotlib.axes._subplots.AxesSubplot at 0x11faec8d0>"
      ]
     },
     "execution_count": 28,
     "metadata": {},
     "output_type": "execute_result"
    },
    {
     "data": {
      "image/png": "[encoded data removed]",
      "text/plain": [
       "<matplotlib.figure.Figure at 0x11face390>"
      ]
     },
     "metadata": {},
     "output_type": "display_data"
    }
   ],
   "source": [
    "fig,ax=plt.subplots(figsize=(10,10))\n",
    "mf.plot(x='Date',y='Time',ax=ax,label='Men')\n",
    "wf.plot(x='Date',y='Time',ax=ax,label='Women')"
   ]
  },
  {
   "cell_type": "code",
   "execution_count": 29,
   "metadata": {},
   "outputs": [
    {
     "data": {
      "text/plain": [
       "<seaborn.axisgrid.PairGrid at 0x11ff8e390>"
      ]
     },
     "execution_count": 29,
     "metadata": {},
     "output_type": "execute_result"
    },
    {
     "data": {
      "image/png": "[encoded data removed]",
      "text/plain": [
       "<matplotlib.figure.Figure at 0x1219633c8>"
      ]
     },
     "metadata": {},
     "output_type": "display_data"
    }
   ],
   "source": [
    "import seaborn as sns\n",
    "sns.set()\n",
    "data = sns.load_dataset('iris')\n",
    "sns.pairplot(data,hue='species')"
   ]
  },
  {
   "cell_type": "code",
   "execution_count": null,
   "metadata": {
    "collapsed": true
   },
   "outputs": [],
   "source": []
  }
 ],
 "metadata": {
  "kernelspec": {
   "display_name": "Python 3",
   "language": "python",
   "name": "python3"
  },
  "language_info": {
   "codemirror_mode": {
    "name": "ipython",
    "version": 3
   },
   "file_extension": ".py",
   "mimetype": "text/x-python",
   "name": "python",
   "nbconvert_exporter": "python",
   "pygments_lexer": "ipython3",
   "version": "3.6.1"
  }
 },
 "nbformat": 4,
 "nbformat_minor": 2
}
